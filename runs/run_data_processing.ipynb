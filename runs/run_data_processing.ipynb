{
 "cells": [
  {
   "cell_type": "code",
   "execution_count": null,
   "metadata": {
    "collapsed": true,
    "pycharm": {
     "is_executing": true,
     "name": "#%% Imports\n"
    }
   },
   "outputs": [],
   "source": [
    "import pandas as pd, numpy as np, os, sys, dataframe, dataframe.calculations.spectrum, visualize.dataframe\n",
    "\n",
    "spectra = pd.read_parquet('/Users/davk/Documents/phd/projects/EvolvingNiches/data/20D13_g0_c012_i1_300x25/encoded_spectrum.parquet')"
   ]
  },
  {
   "cell_type": "code",
   "execution_count": 2,
   "outputs": [],
   "source": [
    "# spectra.loc[(slice(None), ), :]"
   ],
   "metadata": {
    "collapsed": false,
    "pycharm": {
     "name": "#%% Extracting the last few frames from each run. Or specific generations\n",
     "is_executing": false
    }
   }
  }
 ],
 "metadata": {
  "kernelspec": {
   "display_name": "Python 3",
   "language": "python",
   "name": "python3"
  },
  "language_info": {
   "codemirror_mode": {
    "name": "ipython",
    "version": 2
   },
   "file_extension": ".py",
   "mimetype": "text/x-python",
   "name": "python",
   "nbconvert_exporter": "python",
   "pygments_lexer": "ipython2",
   "version": "2.7.6"
  },
  "pycharm": {
   "stem_cell": {
    "cell_type": "raw",
    "source": [],
    "metadata": {
     "collapsed": false
    }
   }
  }
 },
 "nbformat": 4,
 "nbformat_minor": 0
}